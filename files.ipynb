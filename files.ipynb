{
 "cells": [
  {
   "cell_type": "markdown",
   "metadata": {},
   "source": [
    "# Read from a File using read() and readlines()"
   ]
  },
  {
   "cell_type": "code",
   "execution_count": 27,
   "metadata": {},
   "outputs": [
    {
     "name": "stdout",
     "output_type": "stream",
     "text": [
      "Opening file myfile.txt.\n",
      "Reading file myfile.txt.\n",
      "Closing file myfile.txt.\n",
      "This is my first string.\n",
      "My second string is this sentence.\n",
      "This is my third string.\n"
     ]
    }
   ],
   "source": [
    "# A common programming task is to get input from a file using the built-in open() function rather than from a user typing on a keyboard. \n",
    "\n",
    "# openning a file\n",
    "print('Opening file myfile.txt.')\n",
    "f = open('myfile.txt')  # create file object\n",
    "\n",
    "\n",
    "# reading a file content\n",
    "# The file.read() method returns the file contents as a string.\n",
    "print('Reading file myfile.txt.')\n",
    "contents = f.read()  # read file text into a string\n",
    "\n",
    "\n",
    "# closing the file\n",
    "# The file.close() method closes the file, after which no more reads or writes to the file are allowed. \n",
    "print('Closing file myfile.txt.')\n",
    "f.close()  # close the file\n",
    "\n",
    "print(contents)"
   ]
  },
  {
   "cell_type": "code",
   "execution_count": 29,
   "metadata": {},
   "outputs": [
    {
     "name": "stdout",
     "output_type": "stream",
     "text": [
      "Reading in data...\n",
      "\n",
      "Calculating average...\n",
      "Average value: 25.0\n"
     ]
    }
   ],
   "source": [
    "# Read file contents line by line\n",
    "# The file.readlines() method returns a list of strings, where the first element is the contents of the first line, the second element is the contents of the second line, and so on.\n",
    "\n",
    "print ('Reading in data...')\n",
    "f = open('mydata.txt')\n",
    "lines = f.readlines()\n",
    "f.close()\n",
    "\n",
    "# Iterate over each line\n",
    "print('\\nCalculating average...')\n",
    "total = 0\n",
    "for ln in lines:\n",
    "    total += int(ln)\n",
    "\n",
    "# Compute result\n",
    "avg = total/len(lines)\n",
    "print('Average value:', avg)"
   ]
  },
  {
   "cell_type": "code",
   "execution_count": 30,
   "metadata": {},
   "outputs": [],
   "source": [
    "# write the result in a new file \n",
    "\n",
    "f2 = open('mydata_results.txt', 'w')  # Open file\n",
    "f2.write('Average value:')  # Write string\n",
    "f2.write(str(avg))\n",
    "f2.close()  # Close the file"
   ]
  },
  {
   "cell_type": "code",
   "execution_count": 31,
   "metadata": {},
   "outputs": [],
   "source": [
    "# write the result in the same file where the values are (in mydata.txt) \n",
    "# if we use 'a' as the open() method argument, we append the new text to our file\n",
    "# if we use 'w' the result is owerrite the file\n",
    "f3 = open('mydata.txt', 'a')\n",
    "f3.write('Average value:')  # Write string\n",
    "f3.write(str(avg))\n",
    "f3.close()"
   ]
  },
  {
   "cell_type": "markdown",
   "metadata": {},
   "source": [
    "# With Statement "
   ]
  },
  {
   "cell_type": "code",
   "execution_count": 32,
   "metadata": {},
   "outputs": [
    {
     "name": "stdout",
     "output_type": "stream",
     "text": [
      "Opening mydata.txt\n",
      "Closed myfile.txt\n"
     ]
    }
   ],
   "source": [
    "# A with statement can be used to open a file, execute a block of statements, and automatically close the file when complete. \n",
    "print('Opening mydata.txt')\n",
    "\n",
    "# Open a file for reading and appending\n",
    "with open('mydata.txt', 'r+') as f:\n",
    "    # Read in two integers\n",
    "    num1 = int(f.readline())\n",
    "    num2 = int(f.readline())\n",
    "\n",
    "    product = num1 * num2\n",
    "\n",
    "    # Write back result on own line\n",
    "    f.write('\\n')\n",
    "    f.write(str(product))\n",
    "\n",
    "# No need to call f.close() - f closed automatically \n",
    "print('Closed myfile.txt')"
   ]
  },
  {
   "cell_type": "markdown",
   "metadata": {},
   "source": [
    "# How to Read a csv (comma seperated values) File"
   ]
  },
  {
   "cell_type": "code",
   "execution_count": 33,
   "metadata": {},
   "outputs": [
    {
     "data": {
      "text/html": [
       "<div>\n",
       "<style scoped>\n",
       "    .dataframe tbody tr th:only-of-type {\n",
       "        vertical-align: middle;\n",
       "    }\n",
       "\n",
       "    .dataframe tbody tr th {\n",
       "        vertical-align: top;\n",
       "    }\n",
       "\n",
       "    .dataframe thead th {\n",
       "        text-align: right;\n",
       "    }\n",
       "</style>\n",
       "<table border=\"1\" class=\"dataframe\">\n",
       "  <thead>\n",
       "    <tr style=\"text-align: right;\">\n",
       "      <th></th>\n",
       "      <th>Student</th>\n",
       "      <th>A1</th>\n",
       "      <th>A2</th>\n",
       "      <th>A3</th>\n",
       "      <th>A4</th>\n",
       "    </tr>\n",
       "  </thead>\n",
       "  <tbody>\n",
       "    <tr>\n",
       "      <th>0</th>\n",
       "      <td>Dario</td>\n",
       "      <td>100</td>\n",
       "      <td>90</td>\n",
       "      <td>92</td>\n",
       "      <td>93</td>\n",
       "    </tr>\n",
       "    <tr>\n",
       "      <th>1</th>\n",
       "      <td>Bob</td>\n",
       "      <td>95</td>\n",
       "      <td>99</td>\n",
       "      <td>90</td>\n",
       "      <td>89</td>\n",
       "    </tr>\n",
       "    <tr>\n",
       "      <th>2</th>\n",
       "      <td>Tommy</td>\n",
       "      <td>98</td>\n",
       "      <td>56</td>\n",
       "      <td>88</td>\n",
       "      <td>88</td>\n",
       "    </tr>\n",
       "    <tr>\n",
       "      <th>3</th>\n",
       "      <td>Travis</td>\n",
       "      <td>78</td>\n",
       "      <td>87</td>\n",
       "      <td>89</td>\n",
       "      <td>75</td>\n",
       "    </tr>\n",
       "    <tr>\n",
       "      <th>4</th>\n",
       "      <td>Susan</td>\n",
       "      <td>90</td>\n",
       "      <td>86</td>\n",
       "      <td>93</td>\n",
       "      <td>90</td>\n",
       "    </tr>\n",
       "    <tr>\n",
       "      <th>5</th>\n",
       "      <td>Ted</td>\n",
       "      <td>87</td>\n",
       "      <td>78</td>\n",
       "      <td>75</td>\n",
       "      <td>89</td>\n",
       "    </tr>\n",
       "    <tr>\n",
       "      <th>6</th>\n",
       "      <td>Jeb</td>\n",
       "      <td>100</td>\n",
       "      <td>99</td>\n",
       "      <td>90</td>\n",
       "      <td>85</td>\n",
       "    </tr>\n",
       "    <tr>\n",
       "      <th>7</th>\n",
       "      <td>Stacy</td>\n",
       "      <td>88</td>\n",
       "      <td>100</td>\n",
       "      <td>89</td>\n",
       "      <td>91</td>\n",
       "    </tr>\n",
       "    <tr>\n",
       "      <th>8</th>\n",
       "      <td>Morgan</td>\n",
       "      <td>97</td>\n",
       "      <td>71</td>\n",
       "      <td>87</td>\n",
       "      <td>92</td>\n",
       "    </tr>\n",
       "  </tbody>\n",
       "</table>\n",
       "</div>"
      ],
      "text/plain": [
       "  Student   A1   A2  A3  A4\n",
       "0   Dario  100   90  92  93\n",
       "1     Bob   95   99  90  89\n",
       "2   Tommy   98   56  88  88\n",
       "3  Travis   78   87  89  75\n",
       "4   Susan   90   86  93  90\n",
       "5     Ted   87   78  75  89\n",
       "6     Jeb  100   99  90  85\n",
       "7   Stacy   88  100  89  91\n",
       "8  Morgan   97   71  87  92"
      ]
     },
     "execution_count": 33,
     "metadata": {},
     "output_type": "execute_result"
    }
   ],
   "source": [
    "import pandas as pd\n",
    "my_DataFrame = pd.read_csv('Grades.csv')\n",
    "my_DataFrame"
   ]
  },
  {
   "cell_type": "code",
   "execution_count": null,
   "metadata": {},
   "outputs": [],
   "source": []
  }
 ],
 "metadata": {
  "kernelspec": {
   "display_name": "Python 3 (ipykernel)",
   "language": "python",
   "name": "python3"
  },
  "language_info": {
   "codemirror_mode": {
    "name": "ipython",
    "version": 3
   },
   "file_extension": ".py",
   "mimetype": "text/x-python",
   "name": "python",
   "nbconvert_exporter": "python",
   "pygments_lexer": "ipython3",
   "version": "3.9.7"
  }
 },
 "nbformat": 4,
 "nbformat_minor": 2
}
