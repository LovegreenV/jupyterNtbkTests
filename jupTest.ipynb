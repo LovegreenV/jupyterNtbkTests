{
 "cells": [
  {
   "cell_type": "code",
   "execution_count": 3,
   "metadata": {},
   "outputs": [],
   "source": [
    "import yfinance as yf\n",
    "import pandas as pd\n",
    "\n",
    "st.write(\"\"\"\n",
    "# Simple Stock Price App\n",
    "Shown are the stock **closing price** and ***volume*** of Google!\n",
    "\"\"\")\n",
    "\n",
    "# https://towardsdatascience.com/how-to-get-stock-data-using-python-c0de1df17e75\n",
    "# define the ticker symbol\n",
    "tickerSymbol = 'GOOGL'\n",
    "# get data on this ticker\n",
    "tickerData = yf.Ticker(tickerSymbol)\n",
    "# get the historical prices for this ticker\n",
    "tickerDf = tickerData.history(period='1d', start='2010-5-31', end='2020-5-31')\n",
    "# Open\tHigh\tLow\tClose\tVolume\tDividends\tStock Splits\n"
   ]
  },
  {
   "cell_type": "code",
   "execution_count": 13,
   "metadata": {},
   "outputs": [
    {
     "name": "stdout",
     "output_type": "stream",
     "text": [
      "                 Close   Volume\n",
      "Date                           \n",
      "2010-06-01  241.426422  5328266\n",
      "2010-06-02  246.931931  5076518\n",
      "2010-06-03  253.053055  7294099\n",
      "2010-06-04  249.609604  7832759\n",
      "2010-06-07  243.003006  7258135\n",
      "                  Close   Volume\n",
      "Date                            \n",
      "2020-05-22  1413.239990  1427200\n",
      "2020-05-26  1421.369995  2229500\n",
      "2020-05-27  1420.280029  1584200\n",
      "2020-05-28  1418.239990  1758500\n",
      "2020-05-29  1433.520020  1852200\n"
     ]
    }
   ],
   "source": [
    "pandaDf = pd.DataFrame(tickerDf)\n",
    "\n",
    "print(pd.DataFrame(pandaDf, columns = ['Close','Volume']).head())\n",
    "print(pd.DataFrame(pandaDf, columns = ['Close','Volume']).tail())\n",
    "\n"
   ]
  },
  {
   "cell_type": "code",
   "execution_count": 16,
   "metadata": {},
   "outputs": [],
   "source": [
    "import matplotlib.pyplot as plt\n",
    "\n",
    "closeCol = pd.series(pandaDf, columns = ['Close'])\n",
    "\n"
   ]
  },
  {
   "cell_type": "code",
   "execution_count": 15,
   "metadata": {},
   "outputs": [],
   "source": []
  }
 ],
 "metadata": {
  "kernelspec": {
   "display_name": "Python 3.10.5 64-bit",
   "language": "python",
   "name": "python3"
  },
  "language_info": {
   "codemirror_mode": {
    "name": "ipython",
    "version": 3
   },
   "file_extension": ".py",
   "mimetype": "text/x-python",
   "name": "python",
   "nbconvert_exporter": "python",
   "pygments_lexer": "ipython3",
   "version": "3.10.5"
  },
  "orig_nbformat": 4,
  "vscode": {
   "interpreter": {
    "hash": "369f2c481f4da34e4445cda3fffd2e751bd1c4d706f27375911949ba6bb62e1c"
   }
  }
 },
 "nbformat": 4,
 "nbformat_minor": 2
}
