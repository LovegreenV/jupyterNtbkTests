{
 "cells": [
  {
   "cell_type": "code",
   "execution_count": 1,
   "id": "8679489b",
   "metadata": {},
   "outputs": [],
   "source": [
    "from operator import itemgetter\n",
    "import pandas as pd\n",
    "from matplotlib import pyplot as plt\n",
    "import seaborn as sns\n"
   ]
  },
  {
   "cell_type": "code",
   "execution_count": 6,
   "id": "f40bd499",
   "metadata": {},
   "outputs": [
    {
     "name": "stdout",
     "output_type": "stream",
     "text": [
      "Enter document name: Third_Doc_modified.txt\n",
      "{'musk': 10, 'company': 7, 'tesla': 5, 'ceo': 5, 'electric': 5, 'university': 4}\n",
      "['musk', 'company', 'tesla', 'ceo', 'electric', 'university']\n",
      "[10, 7, 5, 5, 5, 4]\n"
     ]
    }
   ],
   "source": [
    "docName = input(\"Enter document name: \")\n",
    "\n",
    "text_file = open(docName)\n",
    "words = text_file.read().split(' ')\n",
    "#print (words)\n",
    "#print (len(words))\n",
    "text_file.close()\n",
    "\n",
    "\n",
    "stopwords = ['the','this','that','in','at','and','or','a','was','is','will','am','are','were','be','been','for','on','as',\n",
    "'with','from','to','after','before','into','us','we','them','they','your','you','my','i','his','him','he','her',\n",
    "'hers','she','by','over','had','has', 'have', 'of', 'off', 'myself', 'yourself', 'themselves', 'ourselves', \n",
    "'again', 'against', 'above', 'few', 'whom','after','an','he','in','during','many','but']\n",
    "\n",
    "\n",
    "def normalize(newWords):\n",
    "    newWords = [s.replace(\"'\", '') for s in newWords]\n",
    "    newWords = [s.replace('_', '') for s in newWords]\n",
    "    newWords = [s.replace(',', '') for s in newWords]\n",
    "    newWords = [s.replace('.', '') for s in newWords]\n",
    "    newWords = [s.replace(';', '') for s in newWords]\n",
    "    newWords = [s.replace(':', '') for s in newWords]\n",
    "    newWords = [s.replace('#', '') for s in newWords]\n",
    "    newWords = [s.replace('@', '') for s in newWords]\n",
    "    newWords = [s.replace('!', '') for s in newWords]\n",
    "    newWords = [s.replace('$', '') for s in newWords]\n",
    "    newWords = [s.replace('%', '') for s in newWords]\n",
    "    newWords = [s.replace('&', '') for s in newWords]\n",
    "    newWords = [s.replace('*', '') for s in newWords]\n",
    "    newWords = [s.replace('(', '') for s in newWords]\n",
    "    newWords = [s.replace(')', '') for s in newWords]\n",
    "    newWords = [s.replace('-', ' ') for s in newWords]\n",
    "    newWords = [s.replace('?', '') for s in newWords]\n",
    "    newWords = [s.replace('/', '') for s in newWords]\n",
    "    newWords = [s.replace('+', '') for s in newWords]\n",
    "    newWords = [s.replace(\"'s\", '') for s in newWords]\n",
    "    newWords = [s.replace(\"[\", '') for s in newWords]\n",
    "    newWords = [s.replace(\"]\", '') for s in newWords]\n",
    "    newWords = [s.replace('\"', '') for s in newWords]\n",
    "    newWords = [s.replace(' ', '') for s in newWords]\n",
    "    newWords = [s.replace('\\n', '') for s in newWords]\n",
    "    # need to get \\ out\n",
    "    newList = newWords\n",
    "    for i in range(len(newList)):\n",
    "        newList[i] = newList[i].lower()\n",
    "    return newList\n",
    "     \n",
    "\n",
    "goodWords = normalize(words)\n",
    "#print(goodWords)\n",
    "\n",
    "\n",
    "for word in list(goodWords):  \n",
    "    if word in stopwords:\n",
    "        goodWords.remove(word)\n",
    "\n",
    "setWords = set(normalize(goodWords))\n",
    "\n",
    "\n",
    "#print(goodWords)\n",
    "#print(setWords)\n",
    "\n",
    "countDict = {}\n",
    "for i in setWords:\n",
    "    countDict[i] = goodWords.count(i)\n",
    "sort_dict = sorted(countDict.items(), key=lambda x: x[1], reverse=True)\n",
    "\n",
    "#print(sort_dict)\n",
    "\n",
    "top6 = dict(sorted(countDict.items(), key = itemgetter(1), reverse = True)[:6])\n",
    "\n",
    "print(top6)\n",
    "\n",
    "keys = list()\n",
    "values = list()\n",
    "for i in top6.keys():\n",
    "    keys.append(i)\n",
    "for i in top6.values():\n",
    "    values.append(i)\n",
    "total = sum(values)\n",
    "print(keys)\n",
    "print(values)"
   ]
  },
  {
   "cell_type": "code",
   "execution_count": null,
   "id": "6ed3346f",
   "metadata": {},
   "outputs": [],
   "source": []
  },
  {
   "cell_type": "code",
   "execution_count": 7,
   "id": "1d3c7045",
   "metadata": {},
   "outputs": [
    {
     "data": {
      "image/png": "[encoded data removed]",
      "text/plain": [
       "<Figure size 432x288 with 1 Axes>"
      ]
     },
     "metadata": {},
     "output_type": "display_data"
    },
    {
     "data": {
      "image/png": "[encoded data removed]",
      "text/plain": [
       "<Figure size 432x288 with 1 Axes>"
      ]
     },
     "metadata": {
      "needs_background": "light"
     },
     "output_type": "display_data"
    }
   ],
   "source": [
    "explode = (0.4,0.0,0.0,0.0,0.0,0.0)\n",
    "def WordsPieChart(dictOfKeys):\n",
    "    plt.title('Pie Chart')\n",
    "    plt.pie(values, labels = keys, autopct=lambda x:'{:.0f}'.format(x*total/100),explode=explode)\n",
    "    #plt.savfig(\"PieChart.png\")\n",
    "    plt.show()\n",
    "    \n",
    "def WordsBarChart(dictOfKeys):\n",
    "    plt.bar(keys,values)\n",
    "    plt.title('Bar Chart')\n",
    "    plt.xlabel('Word')\n",
    "    plt.ylabel('Count')\n",
    "    #plt.savfig(\"BarChart.png\")\n",
    "    plt.show()\n",
    "WordsPieChart(top6)\n",
    "WordsBarChart(top6)"
   ]
  },
  {
   "cell_type": "code",
   "execution_count": null,
   "id": "92b406f2",
   "metadata": {},
   "outputs": [],
   "source": []
  }
 ],
 "metadata": {
  "kernelspec": {
   "display_name": "Python 3 (ipykernel)",
   "language": "python",
   "name": "python3"
  },
  "language_info": {
   "codemirror_mode": {
    "name": "ipython",
    "version": 3
   },
   "file_extension": ".py",
   "mimetype": "text/x-python",
   "name": "python",
   "nbconvert_exporter": "python",
   "pygments_lexer": "ipython3",
   "version": "3.9.7"
  }
 },
 "nbformat": 4,
 "nbformat_minor": 5
}
