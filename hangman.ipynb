{
 "cells": [
  {
   "cell_type": "code",
   "execution_count": 17,
   "metadata": {},
   "outputs": [
    {
     "name": "stdout",
     "output_type": "stream",
     "text": [
      "['a', 'b', 'c', 'd', 'e', 'f', 'g', 'h', 'i', 'j', 'k', 'l', 'm', 'n', 'o', 'p', 'q', 'r', 's', 't', 'u', 'v', 'w', 'x', 'y', 'z']\n"
     ]
    },
    {
     "ename": "ValueError",
     "evalue": "list.remove(x): x not in list",
     "output_type": "error",
     "traceback": [
      "\u001b[1;31m---------------------------------------------------------------------------\u001b[0m",
      "\u001b[1;31mValueError\u001b[0m                                Traceback (most recent call last)",
      "\u001b[1;32mc:\\Users\\vlove\\Desktop\\ipynb_files\\jupyter_files.ipynb Cell 1'\u001b[0m in \u001b[0;36m<cell line: 16>\u001b[1;34m()\u001b[0m\n\u001b[0;32m     <a href='vscode-notebook-cell:/c%3A/Users/vlove/Desktop/ipynb_files/jupyter_files.ipynb#ch0000000?line=20'>21</a>\u001b[0m     letters\u001b[39m.\u001b[39mremove(new_guess)\n\u001b[0;32m     <a href='vscode-notebook-cell:/c%3A/Users/vlove/Desktop/ipynb_files/jupyter_files.ipynb#ch0000000?line=21'>22</a>\u001b[0m     correct_guesses\u001b[39m.\u001b[39mappend(new_guess)\n\u001b[1;32m---> <a href='vscode-notebook-cell:/c%3A/Users/vlove/Desktop/ipynb_files/jupyter_files.ipynb#ch0000000?line=22'>23</a>\u001b[0m possible_guesses\u001b[39m.\u001b[39;49mremove(new_guess)\n\u001b[0;32m     <a href='vscode-notebook-cell:/c%3A/Users/vlove/Desktop/ipynb_files/jupyter_files.ipynb#ch0000000?line=24'>25</a>\u001b[0m printable \u001b[39m=\u001b[39m [each_letter \u001b[39mfor\u001b[39;00m each_letter \u001b[39min\u001b[39;00m word \u001b[39mif\u001b[39;00m each_letter \u001b[39min\u001b[39;00m correct_guesses]\n\u001b[0;32m     <a href='vscode-notebook-cell:/c%3A/Users/vlove/Desktop/ipynb_files/jupyter_files.ipynb#ch0000000?line=26'>27</a>\u001b[0m num \u001b[39m=\u001b[39m \u001b[39m0\u001b[39m\n",
      "\u001b[1;31mValueError\u001b[0m: list.remove(x): x not in list"
     ]
    }
   ],
   "source": [
    "word = \"hello\"\n",
    "word = word.lower()\n",
    "\n",
    "correct_guesses = []\n",
    "\n",
    "letters = []\n",
    "num = 1\n",
    "\n",
    "for letter in word:\n",
    "    letters.append(letter)\n",
    "\n",
    "letters = set(letters)\n",
    "\n",
    "possible_guesses = ['a','b','c','d','e','f','g','h','i','j','k','l','m','n','o','p','q','r','s','t','u','v','w','x','y','z']\n",
    "\n",
    "while num !=0:\n",
    "    print(possible_guesses)\n",
    "    new_guess = input(\"Enter a letter\")\n",
    "    new_guess = new_guess.lower\n",
    "    if new_guess in letters:\n",
    "        letters.remove(new_guess)\n",
    "        correct_guesses.append(new_guess)\n",
    "    possible_guesses.remove(new_guess)\n",
    "\n",
    "    printable = [each_letter for each_letter in word if each_letter in correct_guesses]\n",
    "\n",
    "    num = 0\n",
    "    for i in letters:\n",
    "        num = num +1\n",
    "\n"
   ]
  },
  {
   "cell_type": "code",
   "execution_count": null,
   "metadata": {},
   "outputs": [],
   "source": []
  }
 ],
 "metadata": {
  "kernelspec": {
   "display_name": "Python 3.10.5 64-bit (windows store)",
   "language": "python",
   "name": "python3"
  },
  "language_info": {
   "codemirror_mode": {
    "name": "ipython",
    "version": 3
   },
   "file_extension": ".py",
   "mimetype": "text/x-python",
   "name": "python",
   "nbconvert_exporter": "python",
   "pygments_lexer": "ipython3",
   "version": "3.10.5"
  },
  "orig_nbformat": 4,
  "vscode": {
   "interpreter": {
    "hash": "19d9eeb072d848b2b36469a7fc9eae1ea0305e83131859dcf568d2bf34e85a5b"
   }
  }
 },
 "nbformat": 4,
 "nbformat_minor": 2
}
