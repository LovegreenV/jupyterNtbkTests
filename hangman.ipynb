{
 "cells": [
  {
   "cell_type": "code",
   "execution_count": 14,
   "metadata": {},
   "outputs": [
    {
     "name": "stdout",
     "output_type": "stream",
     "text": [
      "The correct guesses are ['h']\n",
      "You have guessed ['h']\n",
      "The correct guesses are ['h', 'e']\n",
      "You have guessed ['h', 'e']\n",
      "The correct guesses are ['h', 'e', 'l', 'l']\n",
      "You have guessed ['h', 'e', 'l']\n",
      "The correct guesses are ['h', 'e', 'l', 'l', 'o']\n",
      "You have guessed ['h', 'e', 'l', 'o']\n",
      "congrats you won!\n"
     ]
    }
   ],
   "source": [
    "word = str(input(\"Enter the word in lowercase\"))\n",
    "\n",
    "\n",
    "correct_guesses = []\n",
    "\n",
    "letters = []\n",
    "num = 1\n",
    "\n",
    "for letter in word:\n",
    "    letters.append(letter)\n",
    "\n",
    "used_letters = []\n",
    "letters = set(letters)\n",
    "\n",
    "## possible_guesses = ['a','b','c','d','e','f','g','h','i','j','k','l','m','n','o','p','q','r','s','t','u','v','w','x','y','z']\n",
    "\n",
    "while len(letters) != 0 and num < 10:\n",
    "    new_guess = str(input(\"Enter a letter in lowercase\"))\n",
    "    if new_guess in used_letters:\n",
    "        new_guess = str(input(\"Try again!\"))\n",
    "    \n",
    "    if new_guess in letters:\n",
    "        letters.remove(new_guess)\n",
    "        correct_guesses.append(new_guess)\n",
    "    used_letters.append(new_guess)\n",
    "\n",
    "    printable = [each_letter for each_letter in word if each_letter in correct_guesses]\n",
    "\n",
    "    print(\"The correct guesses are\",printable)\n",
    "    print(\"You have guessed\", used_letters)\n",
    "    \n",
    "\n",
    "    num = num + 1\n",
    "\n",
    "if num == 10:\n",
    "    print(\"sorry you failed, the word was\", word)\n",
    "\n",
    "if len(letters) == 0:\n",
    "    print(\"congrats you won!\")\n",
    "\n"
   ]
  },
  {
   "cell_type": "code",
   "execution_count": null,
   "metadata": {},
   "outputs": [],
   "source": []
  }
 ],
 "metadata": {
  "kernelspec": {
   "display_name": "Python 3.10.5 64-bit (windows store)",
   "language": "python",
   "name": "python3"
  },
  "language_info": {
   "codemirror_mode": {
    "name": "ipython",
    "version": 3
   },
   "file_extension": ".py",
   "mimetype": "text/x-python",
   "name": "python",
   "nbconvert_exporter": "python",
   "pygments_lexer": "ipython3",
   "version": "3.10.5"
  },
  "orig_nbformat": 4,
  "vscode": {
   "interpreter": {
    "hash": "19d9eeb072d848b2b36469a7fc9eae1ea0305e83131859dcf568d2bf34e85a5b"
   }
  }
 },
 "nbformat": 4,
 "nbformat_minor": 2
}
